{
 "cells": [
  {
   "cell_type": "markdown",
   "metadata": {},
   "source": [
    "# Project 3: Investigate a Dataset"
   ]
  },
  {
   "cell_type": "markdown",
   "metadata": {},
   "source": [
    "#### Isaac Speelman"
   ]
  },
  {
   "cell_type": "markdown",
   "metadata": {},
   "source": [
    "This is the project from lesson 3 of Udacity's Data Analyst Nanodegree Program. I am studying data from titanic passengers to determine the factors that most influenced whether a passenger lived or died. I believe that females will be more likely than males to have lived, as they were given priority on the lifeboats. Other factors I'm not so sure about, so I will have to examine them."
   ]
  },
  {
   "cell_type": "markdown",
   "metadata": {},
   "source": [
    "First I need to import my data using unicodecsv. Originally I was planning on using pandas read_csv function but it ran into a problem as it wasn't importing the data as a dictionary, which messed up later code. I also check to make sure the import worked"
   ]
  },
  {
   "cell_type": "code",
   "execution_count": 3,
   "metadata": {},
   "outputs": [
    {
     "name": "stdout",
     "output_type": "stream",
     "text": [
      "[OrderedDict([('PassengerId', '1'), ('Survived', '0'), ('Pclass', '3'), ('Name', 'Braund, Mr. Owen Harris'), ('Sex', 'male'), ('Age', '22'), ('SibSp', '1'), ('Parch', '0'), ('Ticket', 'A/5 21171'), ('Fare', '7.25'), ('Cabin', ''), ('Embarked', 'S')]), OrderedDict([('PassengerId', '2'), ('Survived', '1'), ('Pclass', '1'), ('Name', 'Cumings, Mrs. John Bradley (Florence Briggs Thayer)'), ('Sex', 'female'), ('Age', '38'), ('SibSp', '1'), ('Parch', '0'), ('Ticket', 'PC 17599'), ('Fare', '71.2833'), ('Cabin', 'C85'), ('Embarked', 'C')]), OrderedDict([('PassengerId', '3'), ('Survived', '1'), ('Pclass', '3'), ('Name', 'Heikkinen, Miss. Laina'), ('Sex', 'female'), ('Age', '26'), ('SibSp', '0'), ('Parch', '0'), ('Ticket', 'STON/O2. 3101282'), ('Fare', '7.925'), ('Cabin', ''), ('Embarked', 'S')]), OrderedDict([('PassengerId', '4'), ('Survived', '1'), ('Pclass', '1'), ('Name', 'Futrelle, Mrs. Jacques Heath (Lily May Peel)'), ('Sex', 'female'), ('Age', '35'), ('SibSp', '1'), ('Parch', '0'), ('Ticket', '113803'), ('Fare', '53.1'), ('Cabin', 'C123'), ('Embarked', 'S')]), OrderedDict([('PassengerId', '5'), ('Survived', '0'), ('Pclass', '3'), ('Name', 'Allen, Mr. William Henry'), ('Sex', 'male'), ('Age', '35'), ('SibSp', '0'), ('Parch', '0'), ('Ticket', '373450'), ('Fare', '8.05'), ('Cabin', ''), ('Embarked', 'S')])]\n"
     ]
    }
   ],
   "source": [
    "import pandas\n",
    "import unicodecsv\n",
    "import numpy\n",
    "\n",
    "def read_csv(filename):\n",
    "    with open(filename, 'rb') as f:\n",
    "        reader = unicodecsv.DictReader(f)\n",
    "        return list(reader)\n",
    "    \n",
    "passengers = read_csv('train.csv')\n",
    "    \n",
    "\n",
    "print(passengers[0:5])"
   ]
  },
  {
   "cell_type": "markdown",
   "metadata": {},
   "source": [
    "Then I want to get my dataset split into male and female for individual analysis"
   ]
  },
  {
   "cell_type": "code",
   "execution_count": 4,
   "metadata": {
    "collapsed": true
   },
   "outputs": [],
   "source": [
    "female_passengers = []\n",
    "male_passengers = []\n",
    "\n",
    "for passenger in passengers:\n",
    "    sex = passenger['Sex']\n",
    "    if sex == \"female\":\n",
    "        female_passengers.append(passenger)\n",
    "    if sex == \"male\":\n",
    "        male_passengers.append(passenger)"
   ]
  },
  {
   "cell_type": "markdown",
   "metadata": {},
   "source": [
    "Next I figure out how many of each there are"
   ]
  },
  {
   "cell_type": "code",
   "execution_count": 5,
   "metadata": {},
   "outputs": [
    {
     "name": "stdout",
     "output_type": "stream",
     "text": [
      "0\n",
      "OrderedDict([('PassengerId', '1'), ('Survived', '0'), ('Pclass', '3'), ('Name', 'Braund, Mr. Owen Harris'), ('Sex', 'male'), ('Age', '22'), ('SibSp', '1'), ('Parch', '0'), ('Ticket', 'A/5 21171'), ('Fare', '7.25'), ('Cabin', ''), ('Embarked', 'S')])\n",
      "OrderedDict([('PassengerId', '889'), ('Survived', '0'), ('Pclass', '3'), ('Name', 'Johnston, Miss. Catherine Helen \"Carrie\"'), ('Sex', 'female'), ('Age', ''), ('SibSp', '1'), ('Parch', '2'), ('Ticket', 'W./C. 6607'), ('Fare', '23.45'), ('Cabin', ''), ('Embarked', 'S')])\n"
     ]
    }
   ],
   "source": [
    "len(female_passengers)\n",
    "\n",
    "print(\"0\")\n",
    "\n",
    "len(male_passengers)\n",
    "\n",
    "print(male_passengers[0])\n",
    "print(female_passengers[313])"
   ]
  },
  {
   "cell_type": "markdown",
   "metadata": {},
   "source": [
    "There are 577 men and 314 women in this dataset, the len function wasn't working for females(and now males as well) for some reason so I did it somewhat manually instead.\n",
    "Now I want to write a function to split datasets into survivors and non_survivors."
   ]
  },
  {
   "cell_type": "code",
   "execution_count": 11,
   "metadata": {},
   "outputs": [
    {
     "name": "stdout",
     "output_type": "stream",
     "text": [
      "([], [])\n"
     ]
    }
   ],
   "source": [
    "def survivors(passenger_list):\n",
    "    #create lists with the two names I want the dataset split into\n",
    "    survived_passengers = []\n",
    "    notsurvived_passengers = []\n",
    "    #now iterate through the original list and split off survivors and non-survivors\n",
    "    for passenger in passenger_list:\n",
    "        s = passenger['Sex']\n",
    "        if s == \"0\":\n",
    "            survived_passengers.append(passenger)\n",
    "        if s == \"1\":\n",
    "            notsurvived_passengers.append(passenger)\n",
    "            \n",
    "    return(survived_passengers, notsurvived_passengers)\n",
    "\n",
    "female_passengers_split = survivors(female_passengers)\n",
    "print(female_passengers_split)"
   ]
  },
  {
   "cell_type": "code",
   "execution_count": null,
   "metadata": {
    "collapsed": true
   },
   "outputs": [],
   "source": []
  }
 ],
 "metadata": {
  "kernelspec": {
   "display_name": "Python 3",
   "language": "python",
   "name": "python3"
  },
  "language_info": {
   "codemirror_mode": {
    "name": "ipython",
    "version": 3
   },
   "file_extension": ".py",
   "mimetype": "text/x-python",
   "name": "python",
   "nbconvert_exporter": "python",
   "pygments_lexer": "ipython3",
   "version": "3.6.1"
  }
 },
 "nbformat": 4,
 "nbformat_minor": 2
}
